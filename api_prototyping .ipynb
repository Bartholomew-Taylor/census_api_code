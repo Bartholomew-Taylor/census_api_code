{
 "cells": [
  {
   "cell_type": "code",
   "execution_count": null,
   "id": "e38cba5e",
   "metadata": {},
   "outputs": [],
   "source": [
    "# start of api call notebook"
   ]
  },
  {
   "cell_type": "code",
   "execution_count": 2,
   "id": "66e206b2",
   "metadata": {
    "ExecuteTime": {
     "end_time": "2023-04-20T00:08:11.614912Z",
     "start_time": "2023-04-20T00:08:11.551758Z"
    }
   },
   "outputs": [],
   "source": [
    "import pandas as pd\n",
    "import numpy as np\n",
    "from env import api_key\n",
    "import requests\n",
    "import json\n",
    "import os"
   ]
  },
  {
   "cell_type": "code",
   "execution_count": 13,
   "id": "a37c6dc4",
   "metadata": {
    "ExecuteTime": {
     "end_time": "2023-04-20T00:23:17.911886Z",
     "start_time": "2023-04-20T00:23:17.908977Z"
    }
   },
   "outputs": [],
   "source": [
    "url = f\"https://api.census.gov/data/2021/acs/acs1/subject?get=NAME,group(S0101)&for=us:1&key={api_key}\"\n",
    "\n"
   ]
  },
  {
   "cell_type": "code",
   "execution_count": 14,
   "id": "6ae51157",
   "metadata": {
    "ExecuteTime": {
     "end_time": "2023-04-20T00:23:19.731491Z",
     "start_time": "2023-04-20T00:23:18.732599Z"
    }
   },
   "outputs": [
    {
     "data": {
      "text/plain": [
       "<Response [200]>"
      ]
     },
     "execution_count": 14,
     "metadata": {},
     "output_type": "execute_result"
    }
   ],
   "source": [
    "        #Gets each page\n",
    "response = requests.get(url)\n",
    "response"
   ]
  },
  {
   "cell_type": "code",
   "execution_count": 15,
   "id": "1f3da5ab",
   "metadata": {
    "ExecuteTime": {
     "end_time": "2023-04-20T00:23:20.986954Z",
     "start_time": "2023-04-20T00:23:20.981903Z"
    }
   },
   "outputs": [],
   "source": [
    "        #Converts from json\n",
    "data = response.json()"
   ]
  },
  {
   "cell_type": "code",
   "execution_count": 17,
   "id": "7391a260",
   "metadata": {
    "ExecuteTime": {
     "end_time": "2023-04-20T00:24:05.927183Z",
     "start_time": "2023-04-20T00:24:05.893345Z"
    }
   },
   "outputs": [],
   "source": [
    "example_df = pd.DataFrame(data)"
   ]
  },
  {
   "cell_type": "code",
   "execution_count": 18,
   "id": "3b42b8f9",
   "metadata": {
    "ExecuteTime": {
     "end_time": "2023-04-20T00:24:12.313718Z",
     "start_time": "2023-04-20T00:24:12.283159Z"
    }
   },
   "outputs": [
    {
     "data": {
      "text/html": [
       "<div>\n",
       "<style scoped>\n",
       "    .dataframe tbody tr th:only-of-type {\n",
       "        vertical-align: middle;\n",
       "    }\n",
       "\n",
       "    .dataframe tbody tr th {\n",
       "        vertical-align: top;\n",
       "    }\n",
       "\n",
       "    .dataframe thead th {\n",
       "        text-align: right;\n",
       "    }\n",
       "</style>\n",
       "<table border=\"1\" class=\"dataframe\">\n",
       "  <thead>\n",
       "    <tr style=\"text-align: right;\">\n",
       "      <th></th>\n",
       "      <th>0</th>\n",
       "      <th>1</th>\n",
       "      <th>2</th>\n",
       "      <th>3</th>\n",
       "      <th>4</th>\n",
       "      <th>5</th>\n",
       "      <th>6</th>\n",
       "      <th>7</th>\n",
       "      <th>8</th>\n",
       "      <th>9</th>\n",
       "      <th>...</th>\n",
       "      <th>906</th>\n",
       "      <th>907</th>\n",
       "      <th>908</th>\n",
       "      <th>909</th>\n",
       "      <th>910</th>\n",
       "      <th>911</th>\n",
       "      <th>912</th>\n",
       "      <th>913</th>\n",
       "      <th>914</th>\n",
       "      <th>915</th>\n",
       "    </tr>\n",
       "  </thead>\n",
       "  <tbody>\n",
       "    <tr>\n",
       "      <th>0</th>\n",
       "      <td>NAME</td>\n",
       "      <td>GEO_ID</td>\n",
       "      <td>NAME</td>\n",
       "      <td>S0101_C01_001E</td>\n",
       "      <td>S0101_C01_001EA</td>\n",
       "      <td>S0101_C01_001M</td>\n",
       "      <td>S0101_C01_001MA</td>\n",
       "      <td>S0101_C01_002E</td>\n",
       "      <td>S0101_C01_002EA</td>\n",
       "      <td>S0101_C01_002M</td>\n",
       "      <td>...</td>\n",
       "      <td>S0101_C06_036MA</td>\n",
       "      <td>S0101_C06_037E</td>\n",
       "      <td>S0101_C06_037EA</td>\n",
       "      <td>S0101_C06_037M</td>\n",
       "      <td>S0101_C06_037MA</td>\n",
       "      <td>S0101_C06_038E</td>\n",
       "      <td>S0101_C06_038EA</td>\n",
       "      <td>S0101_C06_038M</td>\n",
       "      <td>S0101_C06_038MA</td>\n",
       "      <td>us</td>\n",
       "    </tr>\n",
       "    <tr>\n",
       "      <th>1</th>\n",
       "      <td>United States</td>\n",
       "      <td>0100000US</td>\n",
       "      <td>United States</td>\n",
       "      <td>331893745</td>\n",
       "      <td>None</td>\n",
       "      <td>-555555555</td>\n",
       "      <td>*****</td>\n",
       "      <td>18661245</td>\n",
       "      <td>None</td>\n",
       "      <td>17131</td>\n",
       "      <td>...</td>\n",
       "      <td>(X)</td>\n",
       "      <td>-888888888</td>\n",
       "      <td>(X)</td>\n",
       "      <td>-888888888</td>\n",
       "      <td>(X)</td>\n",
       "      <td>-888888888</td>\n",
       "      <td>(X)</td>\n",
       "      <td>-888888888</td>\n",
       "      <td>(X)</td>\n",
       "      <td>1</td>\n",
       "    </tr>\n",
       "  </tbody>\n",
       "</table>\n",
       "<p>2 rows × 916 columns</p>\n",
       "</div>"
      ],
      "text/plain": [
       "             0          1              2               3                4    \\\n",
       "0           NAME     GEO_ID           NAME  S0101_C01_001E  S0101_C01_001EA   \n",
       "1  United States  0100000US  United States       331893745             None   \n",
       "\n",
       "              5                6               7                8    \\\n",
       "0  S0101_C01_001M  S0101_C01_001MA  S0101_C01_002E  S0101_C01_002EA   \n",
       "1      -555555555            *****        18661245             None   \n",
       "\n",
       "              9    ...              906             907              908  \\\n",
       "0  S0101_C01_002M  ...  S0101_C06_036MA  S0101_C06_037E  S0101_C06_037EA   \n",
       "1           17131  ...              (X)      -888888888              (X)   \n",
       "\n",
       "              909              910             911              912  \\\n",
       "0  S0101_C06_037M  S0101_C06_037MA  S0101_C06_038E  S0101_C06_038EA   \n",
       "1      -888888888              (X)      -888888888              (X)   \n",
       "\n",
       "              913              914 915  \n",
       "0  S0101_C06_038M  S0101_C06_038MA  us  \n",
       "1      -888888888              (X)   1  \n",
       "\n",
       "[2 rows x 916 columns]"
      ]
     },
     "execution_count": 18,
     "metadata": {},
     "output_type": "execute_result"
    }
   ],
   "source": [
    "example_df"
   ]
  },
  {
   "cell_type": "code",
   "execution_count": null,
   "id": "3f7d21ad",
   "metadata": {},
   "outputs": [],
   "source": []
  }
 ],
 "metadata": {
  "kernelspec": {
   "display_name": "Python 3 (ipykernel)",
   "language": "python",
   "name": "python3"
  },
  "language_info": {
   "codemirror_mode": {
    "name": "ipython",
    "version": 3
   },
   "file_extension": ".py",
   "mimetype": "text/x-python",
   "name": "python",
   "nbconvert_exporter": "python",
   "pygments_lexer": "ipython3",
   "version": "3.9.13"
  },
  "varInspector": {
   "cols": {
    "lenName": 16,
    "lenType": 16,
    "lenVar": 40
   },
   "kernels_config": {
    "python": {
     "delete_cmd_postfix": "",
     "delete_cmd_prefix": "del ",
     "library": "var_list.py",
     "varRefreshCmd": "print(var_dic_list())"
    },
    "r": {
     "delete_cmd_postfix": ") ",
     "delete_cmd_prefix": "rm(",
     "library": "var_list.r",
     "varRefreshCmd": "cat(var_dic_list()) "
    }
   },
   "types_to_exclude": [
    "module",
    "function",
    "builtin_function_or_method",
    "instance",
    "_Feature"
   ],
   "window_display": false
  }
 },
 "nbformat": 4,
 "nbformat_minor": 5
}
